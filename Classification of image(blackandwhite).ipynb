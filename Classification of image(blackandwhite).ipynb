{
  "nbformat": 4,
  "nbformat_minor": 0,
  "metadata": {
    "colab": {
      "name": "Untitled1.ipynb",
      "provenance": [],
      "authorship_tag": "ABX9TyMTYXEHzijMRSBaQlovV2MG",
      "include_colab_link": true
    },
    "kernelspec": {
      "name": "python3",
      "display_name": "Python 3"
    }
  },
  "cells": [
    {
      "cell_type": "markdown",
      "metadata": {
        "id": "view-in-github",
        "colab_type": "text"
      },
      "source": [
        "<a href=\"https://colab.research.google.com/github/mashhood9/Tensorflow/blob/master/Classification%20of%20image(blackandwhite).ipynb\" target=\"_parent\"><img src=\"https://colab.research.google.com/assets/colab-badge.svg\" alt=\"Open In Colab\"/></a>"
      ]
    },
    {
      "cell_type": "code",
      "metadata": {
        "id": "j4k_RM7prWPf",
        "colab_type": "code",
        "colab": {}
      },
      "source": [
        "import tensorflow as tf\n",
        "from tensorflow import keras\n",
        "import numpy as np\n",
        "import matplotlib.pyplot as plt"
      ],
      "execution_count": 0,
      "outputs": []
    },
    {
      "cell_type": "code",
      "metadata": {
        "id": "eVwyumKCsVbB",
        "colab_type": "code",
        "colab": {
          "base_uri": "https://localhost:8080/",
          "height": 34
        },
        "outputId": "c6837a48-b201-42d9-8c98-136988d0fa44"
      },
      "source": [
        "print(tf.__version__)"
      ],
      "execution_count": 30,
      "outputs": [
        {
          "output_type": "stream",
          "text": [
            "1.15.0\n"
          ],
          "name": "stdout"
        }
      ]
    },
    {
      "cell_type": "code",
      "metadata": {
        "id": "xl7QvF9bscqU",
        "colab_type": "code",
        "colab": {}
      },
      "source": [
        "fashion_mnist=keras.datasets.fashion_mnist"
      ],
      "execution_count": 0,
      "outputs": []
    },
    {
      "cell_type": "code",
      "metadata": {
        "id": "fWrMVu1dsoCH",
        "colab_type": "code",
        "colab": {}
      },
      "source": [
        "(train_images, train_labels),(test_images, test_labels) = fashion_mnist.load_data()"
      ],
      "execution_count": 0,
      "outputs": []
    },
    {
      "cell_type": "code",
      "metadata": {
        "id": "yQA2Vq4Vytx8",
        "colab_type": "code",
        "colab": {}
      },
      "source": [
        "class_names=['T-Shirt/Top','Trouser', 'Pullover', 'Dress', 'coat', 'Sandals', 'Shirt', 'Sneakaer', 'Bag', 'Ankle_Boot']"
      ],
      "execution_count": 0,
      "outputs": []
    },
    {
      "cell_type": "code",
      "metadata": {
        "id": "r76vqP3BzPtO",
        "colab_type": "code",
        "colab": {
          "base_uri": "https://localhost:8080/",
          "height": 34
        },
        "outputId": "eaaaaa3e-051a-42d8-cb18-6d39952a0d6b"
      },
      "source": [
        "train_images.shape"
      ],
      "execution_count": 34,
      "outputs": [
        {
          "output_type": "execute_result",
          "data": {
            "text/plain": [
              "(60000, 28, 28)"
            ]
          },
          "metadata": {
            "tags": []
          },
          "execution_count": 34
        }
      ]
    },
    {
      "cell_type": "code",
      "metadata": {
        "id": "4_weU1u9zqNQ",
        "colab_type": "code",
        "colab": {
          "base_uri": "https://localhost:8080/",
          "height": 34
        },
        "outputId": "cec7b878-0885-48e3-daf1-70d9e2fdb5e7"
      },
      "source": [
        "len(train_labels)"
      ],
      "execution_count": 35,
      "outputs": [
        {
          "output_type": "execute_result",
          "data": {
            "text/plain": [
              "60000"
            ]
          },
          "metadata": {
            "tags": []
          },
          "execution_count": 35
        }
      ]
    },
    {
      "cell_type": "code",
      "metadata": {
        "id": "LYtUqCGc2Oxh",
        "colab_type": "code",
        "colab": {
          "base_uri": "https://localhost:8080/",
          "height": 265
        },
        "outputId": "db77f0fb-5d5e-48e2-c72b-cf11addfdae6"
      },
      "source": [
        "plt.figure()\n",
        "plt.imshow(train_images[10])\n",
        "plt.colorbar()\n",
        "plt.grid()\n",
        "plt.show()"
      ],
      "execution_count": 36,
      "outputs": [
        {
          "output_type": "display_data",
          "data": {
            "image/png": "[encoded data removed]",
            "text/plain": [
              "<Figure size 432x288 with 2 Axes>"
            ]
          },
          "metadata": {
            "tags": []
          }
        }
      ]
    },
    {
      "cell_type": "code",
      "metadata": {
        "id": "vPhBiRn349z6",
        "colab_type": "code",
        "colab": {
          "base_uri": "https://localhost:8080/",
          "height": 606
        },
        "outputId": "75a40773-4dc6-43c7-e769-e09108413206"
      },
      "source": [
        "plt.figure(figsize=(10,10))\n",
        "for i in range(25):\n",
        "  plt.subplot(5,5,i+1)\n",
        "  plt.xticks([])\n",
        "  plt.yticks([])\n",
        "  plt.grid(False)\n",
        "  plt.imshow(train_images[i], cmap=plt.cm.binary)\n",
        "  plt.xlabel(class_names[train_labels[i]])\n",
        "\n",
        "plt.show"
      ],
      "execution_count": 37,
      "outputs": [
        {
          "output_type": "execute_result",
          "data": {
            "text/plain": [
              "<function matplotlib.pyplot.show>"
            ]
          },
          "metadata": {
            "tags": []
          },
          "execution_count": 37
        },
        {
          "output_type": "display_data",
          "data": {
            "image/png": "[encoded data removed]",
            "text/plain": [
              "<Figure size 720x720 with 25 Axes>"
            ]
          },
          "metadata": {
            "tags": []
          }
        }
      ]
    },
    {
      "cell_type": "code",
      "metadata": {
        "id": "SD18S4hg9DrU",
        "colab_type": "code",
        "colab": {
          "base_uri": "https://localhost:8080/",
          "height": 90
        },
        "outputId": "78abafce-8692-461b-b9ac-27a09c6173ab"
      },
      "source": [
        "model=keras.Sequential([\n",
        "                        keras.layers.Flatten(input_shape=(28,28)),\n",
        "                        keras.layers.Dense(128, activation=tf.nn.relu),\n",
        "                        keras.layers.Dense(10, activation=tf.nn.softmax )\n",
        "\n",
        "])"
      ],
      "execution_count": 41,
      "outputs": [
        {
          "output_type": "stream",
          "text": [
            "WARNING:tensorflow:From /tensorflow-1.15.0/python3.6/tensorflow_core/python/ops/resource_variable_ops.py:1630: calling BaseResourceVariable.__init__ (from tensorflow.python.ops.resource_variable_ops) with constraint is deprecated and will be removed in a future version.\n",
            "Instructions for updating:\n",
            "If using Keras pass *_constraint arguments to layers.\n"
          ],
          "name": "stdout"
        }
      ]
    },
    {
      "cell_type": "code",
      "metadata": {
        "id": "GR3B4H1s3RnV",
        "colab_type": "code",
        "colab": {}
      },
      "source": [
        "model.compile(optimizer='adam',\n",
        "              loss='sparse_categorical_crossentropy',\n",
        "              metrics=['accuracy'])"
      ],
      "execution_count": 0,
      "outputs": []
    },
    {
      "cell_type": "code",
      "metadata": {
        "id": "j_s7fS9RDIUi",
        "colab_type": "code",
        "colab": {
          "base_uri": "https://localhost:8080/",
          "height": 404
        },
        "outputId": "ce75d87b-c331-45a7-e4f7-676e89afc4af"
      },
      "source": [
        "model.fit(train_images, train_labels, epochs=10)"
      ],
      "execution_count": 51,
      "outputs": [
        {
          "output_type": "stream",
          "text": [
            "Train on 60000 samples\n",
            "Epoch 1/10\n",
            "60000/60000 [==============================] - 4s 70us/sample - loss: 2.9383 - acc: 0.6700\n",
            "Epoch 2/10\n",
            "60000/60000 [==============================] - 4s 64us/sample - loss: 0.7182 - acc: 0.7258\n",
            "Epoch 3/10\n",
            "60000/60000 [==============================] - 4s 64us/sample - loss: 0.6161 - acc: 0.7592\n",
            "Epoch 4/10\n",
            "60000/60000 [==============================] - 4s 65us/sample - loss: 0.5899 - acc: 0.7703\n",
            "Epoch 5/10\n",
            "60000/60000 [==============================] - 4s 65us/sample - loss: 0.5714 - acc: 0.7779\n",
            "Epoch 6/10\n",
            "60000/60000 [==============================] - 4s 65us/sample - loss: 0.5588 - acc: 0.7850\n",
            "Epoch 7/10\n",
            "60000/60000 [==============================] - 4s 63us/sample - loss: 0.5388 - acc: 0.8024\n",
            "Epoch 8/10\n",
            "60000/60000 [==============================] - 4s 64us/sample - loss: 0.5151 - acc: 0.8183\n",
            "Epoch 9/10\n",
            "60000/60000 [==============================] - 4s 65us/sample - loss: 0.5060 - acc: 0.8248\n",
            "Epoch 10/10\n",
            "60000/60000 [==============================] - 4s 64us/sample - loss: 0.4945 - acc: 0.8277\n"
          ],
          "name": "stdout"
        },
        {
          "output_type": "execute_result",
          "data": {
            "text/plain": [
              "<tensorflow.python.keras.callbacks.History at 0x7f95cf071da0>"
            ]
          },
          "metadata": {
            "tags": []
          },
          "execution_count": 51
        }
      ]
    },
    {
      "cell_type": "code",
      "metadata": {
        "id": "77RziXAzEdCc",
        "colab_type": "code",
        "colab": {
          "base_uri": "https://localhost:8080/",
          "height": 52
        },
        "outputId": "700bddd5-9114-4ef7-c5ff-a970a61df4f0"
      },
      "source": [
        "test_loss, test_acc=model.evaluate(test_images, test_labels)\n",
        "print('test_accuracy', test_acc)"
      ],
      "execution_count": 53,
      "outputs": [
        {
          "output_type": "stream",
          "text": [
            "10000/10000 [==============================] - 0s 32us/sample - loss: 0.5569 - acc: 0.8126\n",
            "test_accuracy 0.8126\n"
          ],
          "name": "stdout"
        }
      ]
    },
    {
      "cell_type": "code",
      "metadata": {
        "id": "PcHBAuNLE1Qk",
        "colab_type": "code",
        "colab": {}
      },
      "source": [
        "prediction= model.predict(test_images)"
      ],
      "execution_count": 0,
      "outputs": []
    },
    {
      "cell_type": "code",
      "metadata": {
        "id": "gmJiZQ-yE72P",
        "colab_type": "code",
        "colab": {
          "base_uri": "https://localhost:8080/",
          "height": 70
        },
        "outputId": "b44f9e83-e745-439e-e049-baa61e9b68a0"
      },
      "source": [
        "prediction[3]"
      ],
      "execution_count": 55,
      "outputs": [
        {
          "output_type": "execute_result",
          "data": {
            "text/plain": [
              "array([3.7557034e-17, 1.0000000e+00, 1.2601013e-18, 3.9513713e-13,\n",
              "       1.0454333e-12, 0.0000000e+00, 1.1949107e-20, 0.0000000e+00,\n",
              "       7.6575862e-25, 0.0000000e+00], dtype=float32)"
            ]
          },
          "metadata": {
            "tags": []
          },
          "execution_count": 55
        }
      ]
    },
    {
      "cell_type": "code",
      "metadata": {
        "id": "uNlQN4PoH9jl",
        "colab_type": "code",
        "colab": {
          "base_uri": "https://localhost:8080/",
          "height": 34
        },
        "outputId": "dd4cf72a-9130-4dc4-841b-2c178986bf1f"
      },
      "source": [
        "np.argmax(prediction[3])"
      ],
      "execution_count": 58,
      "outputs": [
        {
          "output_type": "execute_result",
          "data": {
            "text/plain": [
              "1"
            ]
          },
          "metadata": {
            "tags": []
          },
          "execution_count": 58
        }
      ]
    },
    {
      "cell_type": "code",
      "metadata": {
        "id": "OiKjBt_OIKXZ",
        "colab_type": "code",
        "colab": {
          "base_uri": "https://localhost:8080/",
          "height": 34
        },
        "outputId": "8c1d10da-6634-4696-a6db-ce89bf631468"
      },
      "source": [
        "test_labels[3]"
      ],
      "execution_count": 60,
      "outputs": [
        {
          "output_type": "execute_result",
          "data": {
            "text/plain": [
              "1"
            ]
          },
          "metadata": {
            "tags": []
          },
          "execution_count": 60
        }
      ]
    }
  ]
}